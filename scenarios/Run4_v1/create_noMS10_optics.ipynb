{
 "cells": [
  {
   "cell_type": "code",
   "execution_count": 1,
   "metadata": {},
   "outputs": [],
   "source": [
    "import sys\n",
    "import numpy as np\n",
    "import pandas as pd"
   ]
  },
  {
   "cell_type": "code",
   "execution_count": 2,
   "metadata": {},
   "outputs": [],
   "source": [
    "sys.path.append('/afs/cern.ch/eng/tracking-tools/modules')\n",
    "import pymask as pm"
   ]
  },
  {
   "cell_type": "code",
   "execution_count": 3,
   "metadata": {},
   "outputs": [],
   "source": [
    "command_log_file='log.madx'\n",
    "stdout_file='stdout.madx'\n",
    "Madx = pm.Madxp\n",
    "with open(stdout_file, 'w') as myFile:\n",
    "    mad = Madx(stdout=myFile,command_log=command_log_file)"
   ]
  },
  {
   "cell_type": "markdown",
   "metadata": {},
   "source": [
    "# 1. Load optics"
   ]
  },
  {
   "cell_type": "code",
   "execution_count": 4,
   "metadata": {},
   "outputs": [],
   "source": [
    "mad.input('''\n",
    "Option,  warn,info;\n",
    "System,\"rm -rf temp\";\n",
    "System,\"mkdir temp\";\n",
    "\n",
    "system,\"ln -fns /afs/cern.ch/eng/lhc/optics/HLLHCV1.5 slhc\";\n",
    "system,\"ln -fns /afs/cern.ch/eng/lhc/optics/runIII lhc\";\n",
    "\n",
    "call,file=\"lhc/lhc.seq\";\n",
    "call,file=\"slhc/toolkit/macro.madx\"; \n",
    "call,file=\"slhc/hllhc_sequence.madx\"; \n",
    "call,file=\"slhc/ramp/opt_ramp_1000_1500_thin.madx\";\n",
    "\n",
    "exec,mk_beam(7000);\n",
    "!exec,check_ip(b1); exec,check_ip(b2); \n",
    "call,file=\"slhc/toolkit/rematch_hllhc.madx\"; \n",
    "\n",
    "use, sequence=lhcb1;\n",
    "select, flag=twiss, clear;\n",
    "twiss,chrom,file=\"initial_twiss.tfs\";\n",
    "\n",
    "''')\n",
    "\n",
    "twiss_initial = mad.get_twiss_df(table_name='twiss')\n",
    "summ_initial  = mad.table.summ.dframe()"
   ]
  },
  {
   "cell_type": "markdown",
   "metadata": {},
   "source": [
    "# 2. Disable MS.10 & rematch"
   ]
  },
  {
   "cell_type": "code",
   "execution_count": 5,
   "metadata": {},
   "outputs": [],
   "source": [
    "mad.input('''\n",
    "exec, DISABLE_SEXT(MS.10);\n",
    "ksf=0.06;ksd=-0.099;\n",
    "exec,set_sext_all(ksf,ksd,ksf,ksd); k2max=0.38;\n",
    "\n",
    "if (match_w2==0){\n",
    "call,file=\"slhc/toolkit/rematch_w.madx\";\n",
    "call,file=\"slhc/toolkit/rematch_disp.madx\";\n",
    "};\n",
    "if (match_w2==2){\n",
    "call,file=\"slhc/toolkit/rematch_w2.madx\";\n",
    "call,file=\"slhc/toolkit/rematch_disp2.madx\";\n",
    "};\n",
    "\n",
    "call,file=\"slhc/toolkit/rematch_crabs.madx\";\n",
    "call,file=\"slhc/toolkit/mk_arc_trims.madx\";\n",
    "\n",
    "value,tarsqueeze, tar_xing_ir15, tar_xing_ir28, tar_on_disp;\n",
    "\n",
    "exec,save_optics_hllhc(opt_ramp_woMS10_1000_1500_thin.madx);\n",
    "\n",
    "use, sequence=lhcb1;\n",
    "select, flag=twiss, clear;\n",
    "twiss,chrom,file=\"last_twiss.tfs\";\n",
    "\n",
    "''')\n",
    "\n",
    "twiss_final = mad.get_twiss_df(table_name='twiss')\n",
    "summ_final  = mad.table.summ.dframe()"
   ]
  },
  {
   "cell_type": "markdown",
   "metadata": {},
   "source": [
    "# 3. sanity checks"
   ]
  },
  {
   "cell_type": "code",
   "execution_count": 22,
   "metadata": {},
   "outputs": [
    {
     "name": "stdout",
     "output_type": "stream",
     "text": [
      "Betas:\n",
      "1.0000000000006626 10.000000000022458 0.9999999999993175 1.4999999999719629\n",
      "Initial tunes and chroma:\n",
      "62.309999999327076 60.319999999325944 1.9991831692323103 2.0006397392080544\n",
      "Final tunes and chroma::\n",
      "62.309999999327076 60.319999999325944 1.9990831958693889 2.00074225631397\n",
      "Initial k2l MS.10:\n",
      "\n",
      "ms.10l5.b1:1    0.052796\n",
      "ms.10r5.b1:1   -0.096072\n",
      "ms.10l1.b1:1    0.069559\n",
      "ms.10r1.b1:1   -0.082879\n",
      "Name: k2l, dtype: float64\n",
      "Final k2l MS.10:\n",
      "\n",
      "ms.10l5.b1:1    0.0\n",
      "ms.10r5.b1:1    0.0\n",
      "ms.10l1.b1:1    0.0\n",
      "ms.10r1.b1:1    0.0\n",
      "Name: k2l, dtype: float64\n"
     ]
    }
   ],
   "source": [
    "# beta in IP1,2,5,8\n",
    "print('Betas:')\n",
    "print(twiss_final.loc['ip1:1'].betx, twiss_final.loc['ip2:1'].betx, twiss_final.loc['ip5:1'].betx, twiss_final.loc['ip8:1'].betx)\n",
    "\n",
    "# tunes & chromaticity\n",
    "print('Initial tunes and chroma:')\n",
    "print(summ_initial['q1'].values[0], summ_initial['q2'].values[0], summ_initial['dq1'].values[0], summ_initial['dq2'].values[0])\n",
    "print('Final tunes and chroma::')\n",
    "print(summ_final['q1'].values[0], summ_final['q2'].values[0], summ_final['dq1'].values[0], summ_final['dq2'].values[0])\n",
    "\n",
    "\n",
    "# MS.10 k2l\n",
    "print('Initial k2l MS.10:')\n",
    "print(twiss_initial[twiss_initial.index.str.contains('ms.10')]['k2l'])\n",
    "print('Final k2l MS.10:')\n",
    "print(twiss_final[twiss_final.index.str.contains('ms.10')]['k2l'])\n"
   ]
  }
 ],
 "metadata": {
  "kernelspec": {
   "display_name": "Python 3",
   "language": "python",
   "name": "python3"
  },
  "language_info": {
   "codemirror_mode": {
    "name": "ipython",
    "version": 3
   },
   "file_extension": ".py",
   "mimetype": "text/x-python",
   "name": "python",
   "nbconvert_exporter": "python",
   "pygments_lexer": "ipython3",
   "version": "3.6.9"
  }
 },
 "nbformat": 4,
 "nbformat_minor": 2
}
